{
 "cells": [
  {
   "cell_type": "markdown",
   "metadata": {},
   "source": [
    "# BMG standard curve exploration\n",
    "\n",
    "This ipynb explores standard curve data acquired from a BMG CLARIOstar Plus plate reader. The overall aim is to identify a common data analysis pipeline for this and similar data.\n",
    "\n",
    "## Aims and objectives for cell/s below\n",
    "\n",
    "- [x] Import plate reader data into pandas in a useable format.\n",
    "- [x] Fit a linear model using OLS.\n",
    "- [ ] Generate the following plots:\n",
    "  - [x] Calibration curve.\n",
    "  - [x] Plot of studentised residuals - tests if the assumption of homoskedasticity is valid."
   ]
  },
  {
   "cell_type": "code",
   "execution_count": 251,
   "metadata": {},
   "outputs": [],
   "source": [
    "import pandas as pd\n",
    "import numpy as np\n",
    "from pathlib import Path\n",
    "import statsmodels.api as sm\n",
    "from patsy import dmatrices\n",
    "import matplotlib.pyplot as plt\n",
    "import numpy.typing as npt"
   ]
  },
  {
   "cell_type": "code",
   "execution_count": 252,
   "metadata": {},
   "outputs": [
    {
     "data": {
      "text/plain": [
       "Index(['Well', 'Content', 'fluorescence', ' Raw Data (F: 482-16/525-20)',\n",
       "       'concentration'],\n",
       "      dtype='object')"
      ]
     },
     "execution_count": 252,
     "metadata": {},
     "output_type": "execute_result"
    }
   ],
   "source": [
    "PATH_TO_CSVS = Path.cwd().parents[0] / \"csv_xlsx_files\"\n",
    "data = pd.read_csv(\n",
    "    PATH_TO_CSVS / \"22-03-25_19-01-53_pierce_gfp_standard.CSV\",\n",
    "    header=3\n",
    ")\n",
    "data.drop(\"Unnamed: 5\", axis=1, inplace=True)\n",
    "data.dropna(inplace=True)\n",
    "# data = data.iloc[:15] # Drop data that is outside the linear region of quantification\n",
    "data.rename(\n",
    "    {\n",
    "        \"Standard Concentrations\": \"concentration\",\n",
    "        \" Blank corrected based on Raw Data (F: 482-16/525-20)\": \"fluorescence\"\n",
    "    },\n",
    "    inplace=True,\n",
    "    axis=1\n",
    ")"
   ]
  },
  {
   "cell_type": "code",
   "execution_count": 253,
   "metadata": {},
   "outputs": [],
   "source": [
    "response, predictors = dmatrices(\n",
    "    \"concentration ~ fluorescence\",\n",
    "    data=data,\n",
    "    return_type=\"dataframe\"\n",
    ")"
   ]
  },
  {
   "cell_type": "code",
   "execution_count": 254,
   "metadata": {},
   "outputs": [
    {
     "data": {
      "text/html": [
       "<table class=\"simpletable\">\n",
       "<caption>OLS Regression Results</caption>\n",
       "<tr>\n",
       "  <th>Dep. Variable:</th>      <td>concentration</td>  <th>  R-squared:         </th> <td>   0.992</td>\n",
       "</tr>\n",
       "<tr>\n",
       "  <th>Model:</th>                   <td>OLS</td>       <th>  Adj. R-squared:    </th> <td>   0.992</td>\n",
       "</tr>\n",
       "<tr>\n",
       "  <th>Method:</th>             <td>Least Squares</td>  <th>  F-statistic:       </th> <td>   4623.</td>\n",
       "</tr>\n",
       "<tr>\n",
       "  <th>Date:</th>             <td>Tue, 12 Apr 2022</td> <th>  Prob (F-statistic):</th> <td>1.83e-40</td>\n",
       "</tr>\n",
       "<tr>\n",
       "  <th>Time:</th>                 <td>16:47:59</td>     <th>  Log-Likelihood:    </th> <td> -91.120</td>\n",
       "</tr>\n",
       "<tr>\n",
       "  <th>No. Observations:</th>      <td>    39</td>      <th>  AIC:               </th> <td>   186.2</td>\n",
       "</tr>\n",
       "<tr>\n",
       "  <th>Df Residuals:</th>          <td>    37</td>      <th>  BIC:               </th> <td>   189.6</td>\n",
       "</tr>\n",
       "<tr>\n",
       "  <th>Df Model:</th>              <td>     1</td>      <th>                     </th>     <td> </td>   \n",
       "</tr>\n",
       "<tr>\n",
       "  <th>Covariance Type:</th>      <td>nonrobust</td>    <th>                     </th>     <td> </td>   \n",
       "</tr>\n",
       "</table>\n",
       "<table class=\"simpletable\">\n",
       "<tr>\n",
       "        <td></td>          <th>coef</th>     <th>std err</th>      <th>t</th>      <th>P>|t|</th>  <th>[0.025</th>    <th>0.975]</th>  \n",
       "</tr>\n",
       "<tr>\n",
       "  <th>Intercept</th>    <td>    0.9925</td> <td>    0.463</td> <td>    2.145</td> <td> 0.039</td> <td>    0.055</td> <td>    1.930</td>\n",
       "</tr>\n",
       "<tr>\n",
       "  <th>fluorescence</th> <td>    0.0004</td> <td> 6.49e-06</td> <td>   67.992</td> <td> 0.000</td> <td>    0.000</td> <td>    0.000</td>\n",
       "</tr>\n",
       "</table>\n",
       "<table class=\"simpletable\">\n",
       "<tr>\n",
       "  <th>Omnibus:</th>       <td>39.931</td> <th>  Durbin-Watson:     </th> <td>   0.720</td>\n",
       "</tr>\n",
       "<tr>\n",
       "  <th>Prob(Omnibus):</th> <td> 0.000</td> <th>  Jarque-Bera (JB):  </th> <td> 137.798</td>\n",
       "</tr>\n",
       "<tr>\n",
       "  <th>Skew:</th>          <td> 2.435</td> <th>  Prob(JB):          </th> <td>1.20e-30</td>\n",
       "</tr>\n",
       "<tr>\n",
       "  <th>Kurtosis:</th>      <td>10.816</td> <th>  Cond. No.          </th> <td>8.01e+04</td>\n",
       "</tr>\n",
       "</table><br/><br/>Notes:<br/>[1] Standard Errors assume that the covariance matrix of the errors is correctly specified.<br/>[2] The condition number is large, 8.01e+04. This might indicate that there are<br/>strong multicollinearity or other numerical problems."
      ],
      "text/plain": [
       "<class 'statsmodels.iolib.summary.Summary'>\n",
       "\"\"\"\n",
       "                            OLS Regression Results                            \n",
       "==============================================================================\n",
       "Dep. Variable:          concentration   R-squared:                       0.992\n",
       "Model:                            OLS   Adj. R-squared:                  0.992\n",
       "Method:                 Least Squares   F-statistic:                     4623.\n",
       "Date:                Tue, 12 Apr 2022   Prob (F-statistic):           1.83e-40\n",
       "Time:                        16:47:59   Log-Likelihood:                -91.120\n",
       "No. Observations:                  39   AIC:                             186.2\n",
       "Df Residuals:                      37   BIC:                             189.6\n",
       "Df Model:                           1                                         \n",
       "Covariance Type:            nonrobust                                         \n",
       "================================================================================\n",
       "                   coef    std err          t      P>|t|      [0.025      0.975]\n",
       "--------------------------------------------------------------------------------\n",
       "Intercept        0.9925      0.463      2.145      0.039       0.055       1.930\n",
       "fluorescence     0.0004   6.49e-06     67.992      0.000       0.000       0.000\n",
       "==============================================================================\n",
       "Omnibus:                       39.931   Durbin-Watson:                   0.720\n",
       "Prob(Omnibus):                  0.000   Jarque-Bera (JB):              137.798\n",
       "Skew:                           2.435   Prob(JB):                     1.20e-30\n",
       "Kurtosis:                      10.816   Cond. No.                     8.01e+04\n",
       "==============================================================================\n",
       "\n",
       "Notes:\n",
       "[1] Standard Errors assume that the covariance matrix of the errors is correctly specified.\n",
       "[2] The condition number is large, 8.01e+04. This might indicate that there are\n",
       "strong multicollinearity or other numerical problems.\n",
       "\"\"\""
      ]
     },
     "execution_count": 254,
     "metadata": {},
     "output_type": "execute_result"
    }
   ],
   "source": [
    "ols_model = sm.OLS(\n",
    "    response,\n",
    "    predictors\n",
    ")\n",
    "ols_fit = model.fit()\n",
    "ols_fit.summary()"
   ]
  },
  {
   "cell_type": "code",
   "execution_count": 255,
   "metadata": {},
   "outputs": [
    {
     "data": {
      "text/plain": [
       "Text(0.5, 0, 'fluorescence (AU)')"
      ]
     },
     "execution_count": 255,
     "metadata": {},
     "output_type": "execute_result"
    },
    {
     "data": {
      "image/png": "[encoded data removed]",
      "text/plain": [
       "<Figure size 432x288 with 1 Axes>"
      ]
     },
     "metadata": {
      "needs_background": "light"
     },
     "output_type": "display_data"
    }
   ],
   "source": [
    "plt.scatter(\n",
    "    data[\"fluorescence\"],\n",
    "    data[\"concentration\"],\n",
    "    alpha=0.7,\n",
    "    edgecolors=\"k\"\n",
    ")\n",
    "x_vals = np.linspace(0, int(round(data[\"fluorescence\"].max())), int(1e3))\n",
    "plt.plot(\n",
    "    x_vals,\n",
    "    x_vals*ols_fit.params[1] + ols_fit.params[0],\n",
    "    color=\"k\" \n",
    ")\n",
    "plt.ylabel(\"concentration (μg/mL)\")\n",
    "plt.xlabel(\"fluorescence (AU)\")"
   ]
  },
  {
   "cell_type": "code",
   "execution_count": 256,
   "metadata": {},
   "outputs": [
    {
     "data": {
      "text/plain": [
       "Text(0.5, 0, 'concentration (μg/mL)')"
      ]
     },
     "execution_count": 256,
     "metadata": {},
     "output_type": "execute_result"
    },
    {
     "data": {
      "image/png": "[encoded data removed]",
      "text/plain": [
       "<Figure size 432x288 with 1 Axes>"
      ]
     },
     "metadata": {
      "needs_background": "light"
     },
     "output_type": "display_data"
    }
   ],
   "source": [
    "student_resid = ols_fit.outlier_test()[\"student_resid\"]\n",
    "plt.scatter(\n",
    "    data[\"concentration\"],\n",
    "    student_resid,\n",
    "    alpha=0.7,\n",
    "    edgecolors=\"k\"\n",
    ")\n",
    "plt.ylabel(\"studentised residual\")\n",
    "plt.xlabel(\"concentration (μg/mL)\")"
   ]
  },
  {
   "cell_type": "markdown",
   "metadata": {},
   "source": [
    "## Results and discussion\n",
    "\n",
    "- From the plot of studentised residuals, the data shows heteroskedasticity with variance increasing as a function of analyte concentration. Weighted linear regression should be attempted to increase the confidence in the predicted model parameters.\n",
    "- Heteroskedasticity is also indicated from `Durbin-watson` parameter from the summary which is not between 1 - 2. The `Prob(Omnibus)` value suggests that the errors are not normally distributed which is another requirement for OLS.\n",
    "\n",
    "## Aims and objectives for cell/s below\n",
    "\n",
    "- [x] Fit a linear model using weighted least squares regression using the following weightings:\n",
    "  - [x] `1/concentration`\n",
    "  - [x] `1/concentration**2`\n",
    "- [x] Analyse the models to see if the confidence in model parameters increases.\n"
   ]
  },
  {
   "cell_type": "code",
   "execution_count": 257,
   "metadata": {},
   "outputs": [
    {
     "name": "stdout",
     "output_type": "stream",
     "text": [
      "                            WLS Regression Results                            \n",
      "==============================================================================\n",
      "Dep. Variable:          concentration   R-squared:                       0.989\n",
      "Model:                            WLS   Adj. R-squared:                  0.989\n",
      "Method:                 Least Squares   F-statistic:                     3458.\n",
      "Date:                Tue, 12 Apr 2022   Prob (F-statistic):           3.77e-38\n",
      "Time:                        16:48:00   Log-Likelihood:                -28.435\n",
      "No. Observations:                  39   AIC:                             60.87\n",
      "Df Residuals:                      37   BIC:                             64.20\n",
      "Df Model:                           1                                         \n",
      "Covariance Type:            nonrobust                                         \n",
      "================================================================================\n",
      "                   coef    std err          t      P>|t|      [0.025      0.975]\n",
      "--------------------------------------------------------------------------------\n",
      "Intercept        0.0310      0.026      1.180      0.246      -0.022       0.084\n",
      "fluorescence     0.0005   7.93e-06     58.801      0.000       0.000       0.000\n",
      "==============================================================================\n",
      "Omnibus:                        7.835   Durbin-Watson:                   0.591\n",
      "Prob(Omnibus):                  0.020   Jarque-Bera (JB):               14.483\n",
      "Skew:                          -0.065   Prob(JB):                     0.000716\n",
      "Kurtosis:                       5.983   Cond. No.                     3.33e+03\n",
      "==============================================================================\n",
      "\n",
      "Notes:\n",
      "[1] Standard Errors assume that the covariance matrix of the errors is correctly specified.\n",
      "[2] The condition number is large, 3.33e+03. This might indicate that there are\n",
      "strong multicollinearity or other numerical problems.\n"
     ]
    }
   ],
   "source": [
    "inv_wsl_mod = sm.WLS(\n",
    "    response,\n",
    "    predictors,\n",
    "    weights=1/data[\"concentration\"]\n",
    ")\n",
    "print(inv_wsl_mod.fit().summary())"
   ]
  },
  {
   "cell_type": "code",
   "execution_count": 258,
   "metadata": {},
   "outputs": [
    {
     "name": "stdout",
     "output_type": "stream",
     "text": [
      "                            WLS Regression Results                            \n",
      "==============================================================================\n",
      "Dep. Variable:          concentration   R-squared:                       0.968\n",
      "Model:                            WLS   Adj. R-squared:                  0.968\n",
      "Method:                 Least Squares   F-statistic:                     1133.\n",
      "Date:                Tue, 12 Apr 2022   Prob (F-statistic):           2.36e-29\n",
      "Time:                        16:48:01   Log-Likelihood:               -0.30265\n",
      "No. Observations:                  39   AIC:                             4.605\n",
      "Df Residuals:                      37   BIC:                             7.932\n",
      "Df Model:                           1                                         \n",
      "Covariance Type:            nonrobust                                         \n",
      "================================================================================\n",
      "                   coef    std err          t      P>|t|      [0.025      0.975]\n",
      "--------------------------------------------------------------------------------\n",
      "Intercept        0.0095      0.002      4.525      0.000       0.005       0.014\n",
      "fluorescence     0.0005   1.58e-05     33.658      0.000       0.000       0.001\n",
      "==============================================================================\n",
      "Omnibus:                        2.552   Durbin-Watson:                   0.803\n",
      "Prob(Omnibus):                  0.279   Jarque-Bera (JB):                1.564\n",
      "Skew:                          -0.456   Prob(JB):                        0.457\n",
      "Kurtosis:                       3.361   Cond. No.                         143.\n",
      "==============================================================================\n",
      "\n",
      "Notes:\n",
      "[1] Standard Errors assume that the covariance matrix of the errors is correctly specified.\n"
     ]
    }
   ],
   "source": [
    "inv2_wls_mod = sm.WLS(\n",
    "    response,\n",
    "    predictors,\n",
    "    weights=1/data[\"concentration\"]**2\n",
    ")\n",
    "print(inv2_wls_mod.fit().summary())"
   ]
  },
  {
   "cell_type": "markdown",
   "metadata": {},
   "source": [
    "## Results and discussion\n",
    "\n",
    "- Using a weighting of `1/concentration` decreases our confidence in the intercept value from P=0.07 to P=0.246, suggesting this weighting shouldn't be used.\n",
    "- Using a weighting of `1/concentration**2` increases our confidence in the intercept value from P=0.07 to P=0, suggesting this weighting should be used. This conclusion is supported by previous literature (10.1021/ac5018265).\n",
    "\n",
    "## Aims and objectives for the cell/s below\n",
    "\n",
    "- [x] Using plots of relative errors, compare the accuracy of OLS with WLS.\n",
    "- [x] Select a suitable range of values to use for the standard curve, ensuring relative error doesn't exceed 15% and residuals are "
   ]
  },
  {
   "cell_type": "code",
   "execution_count": 259,
   "metadata": {},
   "outputs": [],
   "source": [
    "wls_fit = inv2_wls_mod.fit()"
   ]
  },
  {
   "cell_type": "code",
   "execution_count": 260,
   "metadata": {},
   "outputs": [],
   "source": [
    "def calculate_relative_errors(\n",
    "    abs_val: npt.ArrayLike,\n",
    "    lm_fit: None,\n",
    ") -> npt.ArrayLike:\n",
    "    \"\"\"Calculate relative errors from a linear model.\n",
    "    \n",
    "    Args:\n",
    "        abs_val: Absolute value from data.\n",
    "        lm_fit: Linear model object.\n",
    "    \n",
    "    \"\"\"\n",
    "    return np.absolute((lm_fit.resid/abs_val*100).to_numpy())"
   ]
  },
  {
   "cell_type": "code",
   "execution_count": 261,
   "metadata": {},
   "outputs": [
    {
     "data": {
      "image/png": "[encoded data removed]",
      "text/plain": [
       "<Figure size 432x288 with 2 Axes>"
      ]
     },
     "metadata": {
      "needs_background": "light"
     },
     "output_type": "display_data"
    }
   ],
   "source": [
    "wls_errors = calculate_relative_errors(data[\"concentration\"], wls_fit)\n",
    "ols_errors = calculate_relative_errors(data[\"concentration\"], ols_fit)\n",
    "\n",
    "figure, axs = plt.subplots(nrows=1, ncols=2)\n",
    "\n",
    "for ax in axs:\n",
    "    ax.set_ylabel(\"% relative errors\")\n",
    "    ax.set_xlabel(\"concentration (μg/mL)\")\n",
    "    ax.set_xscale(\"log\")\n",
    "\n",
    "axs[0].scatter(\n",
    "    data[\"concentration\"],\n",
    "    wls_errors,\n",
    "    alpha=0.7,\n",
    "    edgecolors=\"k\"\n",
    ")\n",
    "axs[0].set_title(\"WLS\")\n",
    "\n",
    "axs[1].scatter(\n",
    "    data[\"concentration\"],\n",
    "    ols_errors,\n",
    "    alpha=0.7,\n",
    "    edgecolors=\"k\",\n",
    "    facecolor=\"r\"\n",
    ")\n",
    "axs[1].set_title(\"OLS\")\n",
    "plt.tight_layout()"
   ]
  },
  {
   "cell_type": "code",
   "execution_count": 266,
   "metadata": {},
   "outputs": [
    {
     "name": "stdout",
     "output_type": "stream",
     "text": [
      "Max absolute studentised residual:  1.556641016983156\n",
      "Max % relative error:               10.996375191678927\n",
      "Min concentration (μg/mL):          0.195\n",
      "Max concentration (μg/mL):          50.0\n"
     ]
    },
    {
     "data": {
      "image/png": "[encoded data removed]",
      "text/plain": [
       "<Figure size 432x288 with 2 Axes>"
      ]
     },
     "metadata": {
      "needs_background": "light"
     },
     "output_type": "display_data"
    }
   ],
   "source": [
    "data2 = data.iloc[3:3*10, :] # Drop rows to improve quantification.\n",
    "response, predictors = dmatrices(\n",
    "    \"concentration ~ fluorescence\",\n",
    "    data=data2,\n",
    "    return_type=\"dataframe\"\n",
    ")\n",
    "wls_mod = sm.WLS(\n",
    "    response,\n",
    "    predictors,\n",
    "    weights=1/data2[\"concentration\"]**2\n",
    ")\n",
    "wls_fit = wls_mod.fit()\n",
    "wls_errors = calculate_relative_errors(\n",
    "    data2[\"concentration\"],\n",
    "    wls_fit    \n",
    ")\n",
    "\n",
    "res = sm.OLS(wls_mod.wendog, wls_mod.wexog).fit()\n",
    "student_resid = res.get_influence().resid_studentized\n",
    "\n",
    "figure, axs = plt.subplots(nrows=1, ncols=2)\n",
    "\n",
    "for ax in axs:\n",
    "    ax.set_xscale(\"log\")\n",
    "    ax.set_xlabel(\"concentration (μg/mL)\")\n",
    "\n",
    "\n",
    "axs[0].scatter(\n",
    "    data2[\"concentration\"],\n",
    "    student_resid,\n",
    "    alpha=0.7,\n",
    "    edgecolors=\"k\"\n",
    ")\n",
    "axs[0].set_ylabel(\"studentised residuals\")\n",
    "axs[0].axhline(y=2, color=\"r\", linestyle=\"--\")\n",
    "axs[0].axhline(y=-2, color=\"r\", linestyle=\"--\")\n",
    "\n",
    "axs[1].scatter(\n",
    "    data2[\"concentration\"],\n",
    "    wls_errors,\n",
    "    alpha=0.7,\n",
    "    edgecolors=\"k\"    \n",
    ")\n",
    "axs[1].axhline(y=15, color='r', linestyle='--')\n",
    "axs[1].set_ylabel(\"% relative error\")\n",
    "axs[1].set_ylim(top=50)\n",
    "plt.tight_layout()\n",
    "print(f\"{'Max absolute studentised residual:': <35} {max(np.absolute(student_resid))}\")\n",
    "print(f\"{'Max % relative error:': <35} {max(wls_errors)}\")\n",
    "print(f\"{'Min concentration (μg/mL):': <35} {np.min(data2['concentration'])}\")\n",
    "print(f\"{'Max concentration (μg/mL):': <35} {np.max(data2['concentration'])}\")"
   ]
  },
  {
   "cell_type": "code",
   "execution_count": 263,
   "metadata": {},
   "outputs": [
    {
     "data": {
      "text/html": [
       "<table class=\"simpletable\">\n",
       "<caption>WLS Regression Results</caption>\n",
       "<tr>\n",
       "  <th>Dep. Variable:</th>      <td>concentration</td>  <th>  R-squared:         </th> <td>   0.989</td>\n",
       "</tr>\n",
       "<tr>\n",
       "  <th>Model:</th>                   <td>WLS</td>       <th>  Adj. R-squared:    </th> <td>   0.988</td>\n",
       "</tr>\n",
       "<tr>\n",
       "  <th>Method:</th>             <td>Least Squares</td>  <th>  F-statistic:       </th> <td>   2438.</td>\n",
       "</tr>\n",
       "<tr>\n",
       "  <th>Date:</th>             <td>Tue, 12 Apr 2022</td> <th>  Prob (F-statistic):</th> <td>8.87e-29</td>\n",
       "</tr>\n",
       "<tr>\n",
       "  <th>Time:</th>                 <td>16:48:05</td>     <th>  Log-Likelihood:    </th> <td> -14.637</td>\n",
       "</tr>\n",
       "<tr>\n",
       "  <th>No. Observations:</th>      <td>    30</td>      <th>  AIC:               </th> <td>   33.27</td>\n",
       "</tr>\n",
       "<tr>\n",
       "  <th>Df Residuals:</th>          <td>    28</td>      <th>  BIC:               </th> <td>   36.08</td>\n",
       "</tr>\n",
       "<tr>\n",
       "  <th>Df Model:</th>              <td>     1</td>      <th>                     </th>     <td> </td>   \n",
       "</tr>\n",
       "<tr>\n",
       "  <th>Covariance Type:</th>      <td>nonrobust</td>    <th>                     </th>     <td> </td>   \n",
       "</tr>\n",
       "</table>\n",
       "<table class=\"simpletable\">\n",
       "<tr>\n",
       "        <td></td>          <th>coef</th>     <th>std err</th>      <th>t</th>      <th>P>|t|</th>  <th>[0.025</th>    <th>0.975]</th>  \n",
       "</tr>\n",
       "<tr>\n",
       "  <th>Intercept</th>    <td>    0.0664</td> <td>    0.010</td> <td>    6.575</td> <td> 0.000</td> <td>    0.046</td> <td>    0.087</td>\n",
       "</tr>\n",
       "<tr>\n",
       "  <th>fluorescence</th> <td>    0.0005</td> <td> 1.02e-05</td> <td>   49.381</td> <td> 0.000</td> <td>    0.000</td> <td>    0.001</td>\n",
       "</tr>\n",
       "</table>\n",
       "<table class=\"simpletable\">\n",
       "<tr>\n",
       "  <th>Omnibus:</th>       <td> 1.347</td> <th>  Durbin-Watson:     </th> <td>   0.785</td>\n",
       "</tr>\n",
       "<tr>\n",
       "  <th>Prob(Omnibus):</th> <td> 0.510</td> <th>  Jarque-Bera (JB):  </th> <td>   1.281</td>\n",
       "</tr>\n",
       "<tr>\n",
       "  <th>Skew:</th>          <td>-0.428</td> <th>  Prob(JB):          </th> <td>   0.527</td>\n",
       "</tr>\n",
       "<tr>\n",
       "  <th>Kurtosis:</th>      <td> 2.458</td> <th>  Cond. No.          </th> <td>1.11e+03</td>\n",
       "</tr>\n",
       "</table><br/><br/>Notes:<br/>[1] Standard Errors assume that the covariance matrix of the errors is correctly specified.<br/>[2] The condition number is large, 1.11e+03. This might indicate that there are<br/>strong multicollinearity or other numerical problems."
      ],
      "text/plain": [
       "<class 'statsmodels.iolib.summary.Summary'>\n",
       "\"\"\"\n",
       "                            WLS Regression Results                            \n",
       "==============================================================================\n",
       "Dep. Variable:          concentration   R-squared:                       0.989\n",
       "Model:                            WLS   Adj. R-squared:                  0.988\n",
       "Method:                 Least Squares   F-statistic:                     2438.\n",
       "Date:                Tue, 12 Apr 2022   Prob (F-statistic):           8.87e-29\n",
       "Time:                        16:48:05   Log-Likelihood:                -14.637\n",
       "No. Observations:                  30   AIC:                             33.27\n",
       "Df Residuals:                      28   BIC:                             36.08\n",
       "Df Model:                           1                                         \n",
       "Covariance Type:            nonrobust                                         \n",
       "================================================================================\n",
       "                   coef    std err          t      P>|t|      [0.025      0.975]\n",
       "--------------------------------------------------------------------------------\n",
       "Intercept        0.0664      0.010      6.575      0.000       0.046       0.087\n",
       "fluorescence     0.0005   1.02e-05     49.381      0.000       0.000       0.001\n",
       "==============================================================================\n",
       "Omnibus:                        1.347   Durbin-Watson:                   0.785\n",
       "Prob(Omnibus):                  0.510   Jarque-Bera (JB):                1.281\n",
       "Skew:                          -0.428   Prob(JB):                        0.527\n",
       "Kurtosis:                       2.458   Cond. No.                     1.11e+03\n",
       "==============================================================================\n",
       "\n",
       "Notes:\n",
       "[1] Standard Errors assume that the covariance matrix of the errors is correctly specified.\n",
       "[2] The condition number is large, 1.11e+03. This might indicate that there are\n",
       "strong multicollinearity or other numerical problems.\n",
       "\"\"\""
      ]
     },
     "execution_count": 263,
     "metadata": {},
     "output_type": "execute_result"
    }
   ],
   "source": [
    "wls_fit.summary()"
   ]
  },
  {
   "cell_type": "markdown",
   "metadata": {},
   "source": [
    "## Results and discussion\n",
    "\n",
    "- Compared to WLS regression, using OLS to fit a standard curve for the data results in large relative errors at low concentrations of analyte. This highlights its inappropriate use in this case.\n",
    "- By dropping data points the accuracy of the standard curve improves such that % relative errors are below 15 % and studentised residuals are between [-2, 2]. Properties that indicate good linearity of a standard curve (10.1016/j.trac.2015.12.006 & 10.1016/j.talanta.2017.05.049).\n",
    "- Of note dropping data from 100 μg/mL standard concentration was required to ensure good linearity. It is unclear why this was required as the gain of the instrument was automatically set to yield 90 % max signal for this concentration.\n",
    "\n",
    "## Suggested method for generating standard curves\n",
    "\n",
    "1. Import data and format:\n",
    "   1. Identify `response` and `standard_concentrations` data series.\n",
    "   2. Remove `NAN` values.\n",
    "2. Fit a model using OLS regression.\n",
    "3. Run the following analysis:\n",
    "   1. Plot a standard curve\n",
    "   2. Plot studentised residuals\n",
    "   3. Plot % relative error\n",
    "   4. Generate a summary of the fit\n",
    "4. Examine the studentised residual plot and summary to determine if WLS regression is required.\n",
    "5. If WLS is required repeat step 3 using selected weights, typically `1/standard_concentrations**2`.\n",
    "6. Examine studentised residual and % relative error plots to determine if data points are outside the linear region. If so remove values and repeat step 3."
   ]
  }
 ],
 "metadata": {
  "interpreter": {
   "hash": "fd1c86cb88397738309a7de0d2b6eed78df158355c26a9489815aaf258950e01"
  },
  "kernelspec": {
   "display_name": "Python 3.7.12 ('standard-linearity-gx5m8jyi-py3.7')",
   "language": "python",
   "name": "python3"
  },
  "language_info": {
   "codemirror_mode": {
    "name": "ipython",
    "version": 3
   },
   "file_extension": ".py",
   "mimetype": "text/x-python",
   "name": "python",
   "nbconvert_exporter": "python",
   "pygments_lexer": "ipython3",
   "version": "3.8.12"
  },
  "orig_nbformat": 4
 },
 "nbformat": 4,
 "nbformat_minor": 2
}
